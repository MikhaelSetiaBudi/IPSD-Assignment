{
 "cells": [
  {
   "cell_type": "code",
   "execution_count": 1,
   "id": "c41e000f-66b0-442e-8ac4-ffb209b6cf85",
   "metadata": {},
   "outputs": [
    {
     "name": "stdout",
     "output_type": "stream",
     "text": [
      "Nama : Budi \n",
      "Umur : 20\n"
     ]
    }
   ],
   "source": [
    "nama = \"Budi\"\n",
    "umur = 20\n",
    "print(f\"Nama : {nama} \\nUmur : {umur}\")"
   ]
  },
  {
   "cell_type": "code",
   "execution_count": 3,
   "id": "686e4551-52a7-414f-a9a4-4c6e430de41c",
   "metadata": {},
   "outputs": [
    {
     "name": "stdin",
     "output_type": "stream",
     "text": [
      "Masukkan Kalimat:  Data Science\n"
     ]
    },
    {
     "name": "stdout",
     "output_type": "stream",
     "text": [
      "Data Science\n",
      "Data Science\n",
      "Data Science\n",
      "Data Science\n",
      "Data Science\n"
     ]
    }
   ],
   "source": [
    "sentence = input(\"Masukkan Kalimat: \")\n",
    "for _ in range(5):\n",
    "    print(sentence)"
   ]
  },
  {
   "cell_type": "code",
   "execution_count": 5,
   "id": "a2751a6e-35e4-4a97-ac8e-878df44d2ff7",
   "metadata": {},
   "outputs": [
    {
     "name": "stdout",
     "output_type": "stream",
     "text": [
      "lebih dari 100\n"
     ]
    }
   ],
   "source": [
    "value = 150\n",
    "if value > 100:\n",
    "    print(\"lebih dari 100\")\n",
    "else:\n",
    "    print(\"100 atau kurang dari\")"
   ]
  },
  {
   "cell_type": "code",
   "execution_count": 7,
   "id": "06b1d163-6444-4ceb-a138-dd8c4517f753",
   "metadata": {},
   "outputs": [
    {
     "name": "stdout",
     "output_type": "stream",
     "text": [
      "Boleh memberikan suara\n"
     ]
    }
   ],
   "source": [
    "age = 18\n",
    "if age >= 18:\n",
    "    print(\"Boleh memberikan suara\")\n",
    "else:\n",
    "    print(\"Tidak boleh memberikan suara\")"
   ]
  }
 ],
 "metadata": {
  "kernelspec": {
   "display_name": "Python 3 (ipykernel)",
   "language": "python",
   "name": "python3"
  },
  "language_info": {
   "codemirror_mode": {
    "name": "ipython",
    "version": 3
   },
   "file_extension": ".py",
   "mimetype": "text/x-python",
   "name": "python",
   "nbconvert_exporter": "python",
   "pygments_lexer": "ipython3",
   "version": "3.12.4"
  }
 },
 "nbformat": 4,
 "nbformat_minor": 5
}
