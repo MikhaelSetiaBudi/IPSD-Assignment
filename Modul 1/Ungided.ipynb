{
 "cells": [
  {
   "cell_type": "code",
   "execution_count": 129,
   "id": "e9556cc4-7016-47ce-8c73-52659d5eba7c",
   "metadata": {},
   "outputs": [
    {
     "name": "stdout",
     "output_type": "stream",
     "text": [
      "1\n",
      "2 3 \n",
      "5 7 11 \n",
      "13 17 19 23 \n"
     ]
    }
   ],
   "source": [
    "# Soal 1\n",
    "\n",
    "def is_prime(num):\n",
    "    if num < 2:\n",
    "        return False\n",
    "    for i in range(2, int(num**0.5) + 1):\n",
    "        if num % i == 0:\n",
    "            return False\n",
    "    return True\n",
    "\n",
    "def generate_primes(n):\n",
    "    primes = []\n",
    "    num = 2  \n",
    "    while len(primes) < n:\n",
    "        if is_prime(num):\n",
    "            primes.append(num)\n",
    "        num += 1\n",
    "    return primes\n",
    "\n",
    "def print_prime_pattern(rows):\n",
    "    total_numbers = (rows * (rows + 1)) // 2  \n",
    "    primes = generate_primes(total_numbers)\n",
    "\n",
    "    print(1)  \n",
    "    index = 0\n",
    "\n",
    "    for i in range(2, rows + 1):  \n",
    "        for j in range(i):\n",
    "            if index < len(primes):\n",
    "                print(primes[index], end=' ')\n",
    "                index += 1\n",
    "        print()  \n",
    "\n",
    "jumlah_baris = 4  \n",
    "print_prime_pattern(jumlah_baris)\n"
   ]
  },
  {
   "cell_type": "code",
   "execution_count": 131,
   "id": "a1d66951-1f40-4206-83bb-0d58afcbe87b",
   "metadata": {},
   "outputs": [
    {
     "name": "stdout",
     "output_type": "stream",
     "text": [
      "[40, 35, 20, 15]\n"
     ]
    }
   ],
   "source": [
    "# Soal 2\n",
    "\n",
    "def combine_and_sort_odd_indices(list1, list2):\n",
    "    odd_indexed_elements = []\n",
    "    odd_indexed_elements.extend(list1[i] for i in range(1, len(list1), 2))\n",
    "    odd_indexed_elements.extend(list2[i] for i in range(1, len(list2), 2))\n",
    "    odd_indexed_elements.sort(reverse=True)\n",
    "    return odd_indexed_elements\n",
    "\n",
    "list1 = [10, 20, 30, 40, 50]\n",
    "list2 = [5, 15, 25, 35, 45]\n",
    "\n",
    "result = combine_and_sort_odd_indices(list1, list2)\n",
    "print(result) \n"
   ]
  },
  {
   "cell_type": "code",
   "execution_count": 133,
   "id": "3de84360-9ed6-41d5-8737-82b67d9ccceb",
   "metadata": {},
   "outputs": [
    {
     "name": "stdin",
     "output_type": "stream",
     "text": [
      "Masukkan PIN Anda:  1234\n"
     ]
    },
    {
     "name": "stdout",
     "output_type": "stream",
     "text": [
      "PIN benar!\n"
     ]
    },
    {
     "name": "stdin",
     "output_type": "stream",
     "text": [
      "Masukkan jumlah penarikan:  50000\n"
     ]
    },
    {
     "name": "stdout",
     "output_type": "stream",
     "text": [
      "Penarikan berhasil! Saldo akhir Anda: 50000.0\n"
     ]
    }
   ],
   "source": [
    "# Soal 3\n",
    "\n",
    "def atm_simulation():\n",
    "    correct_pin = \"1234\"  \n",
    "    attempts = 3  \n",
    "    balance = 100000   \n",
    "    \n",
    "    for attempt in range(attempts):\n",
    "        pin = input(\"Masukkan PIN Anda: \")\n",
    "        if pin == correct_pin:\n",
    "            print(\"PIN benar!\")\n",
    "            break\n",
    "        else:\n",
    "            print(\"PIN salah. Coba lagi.\")\n",
    "            if attempt == attempts - 1:\n",
    "                print(\"Anda telah mencoba terlalu banyak kali. Transaksi dibatalkan.\")\n",
    "                return\n",
    "\n",
    "    try:\n",
    "        withdrawal_amount = float(input(\"Masukkan jumlah penarikan: \"))\n",
    "    \n",
    "        if withdrawal_amount > balance:\n",
    "            print(\"Kesalahan: Saldo tidak cukup untuk penarikan tersebut.\")\n",
    "        else:\n",
    "            balance -= withdrawal_amount\n",
    "            print(f\"Penarikan berhasil! Saldo akhir Anda: {balance}\")\n",
    "    except ValueError:\n",
    "        print(\"Input tidak valid. Harap masukkan jumlah yang benar.\")\n",
    "\n",
    "atm_simulation()\n"
   ]
  },
  {
   "cell_type": "code",
   "execution_count": 145,
   "id": "f4f07826-4be1-4e65-aa27-ad71f62ca743",
   "metadata": {},
   "outputs": [
    {
     "name": "stdout",
     "output_type": "stream",
     "text": [
      "Rata-rata nilai: 72.00\n",
      "\n",
      "Mahasiswa dengan nilai tertinggi: Siswa_7 (100.00)\n",
      "Mahasiswa dengan nilai terendah: Siswa_5 (50.00)\n"
     ]
    }
   ],
   "source": [
    "# Soal 4\n",
    "\n",
    "import pandas as pd\n",
    "\n",
    "def baca_data_csv(nama_file):\n",
    "    return pd.read_csv(nama_file)\n",
    "\n",
    "def hitung_rata_rata_nilai(data_mahasiswa):\n",
    "    return data_mahasiswa['Nilai'].mean()\n",
    "\n",
    "def mahasiswa_terbaik_dan_terburuk(data_mahasiswa):\n",
    "    mahasiswa_terbaik = data_mahasiswa.loc[data_mahasiswa['Nilai'].idxmax()]\n",
    "    mahasiswa_terburuk = data_mahasiswa.loc[data_mahasiswa['Nilai'].idxmin()]\n",
    "    return mahasiswa_terbaik, mahasiswa_terburuk\n",
    "\n",
    "def main():\n",
    "    nama_file = 'siswa_nilai.csv'    \n",
    "    data_mahasiswa = baca_data_csv(nama_file)\n",
    "    rata_rata = hitung_rata_rata(data_mahasiswa)\n",
    "    print(f\"Rata-rata nilai: {rata_rata:.2f}\")\n",
    "    terbaik, terburuk = mahasiswa_terbaik_dan_terburuk(data_mahasiswa)\n",
    "    print(f\"\\nMahasiswa dengan nilai tertinggi: {terbaik['Nama Siswa']} ({terbaik['Nilai']:.2f})\")\n",
    "    print(f\"Mahasiswa dengan nilai terendah: {terburuk['Nama Siswa']} ({terburuk['Nilai']:.2f})\")\n",
    "\n",
    "if __name__ == \"__main__\":\n",
    "    main()\n",
    "\n"
   ]
  },
  {
   "cell_type": "code",
   "execution_count": 137,
   "id": "7d9e072c-3f51-4a77-be1a-f0aba9c944d1",
   "metadata": {},
   "outputs": [
    {
     "name": "stdout",
     "output_type": "stream",
     "text": [
      "Selamat datang di permainan Tebak Angka!\n",
      "Saya sudah memilih angka diantara 1 hingga 100.\n",
      "Anda memiliki 5 kali percobaan untuk menebak angka tersebut.\n"
     ]
    },
    {
     "name": "stdin",
     "output_type": "stream",
     "text": [
      "Tebakan ke-1:  40\n"
     ]
    },
    {
     "name": "stdout",
     "output_type": "stream",
     "text": [
      "Angka yang ditebak terlalu kecil.\n"
     ]
    },
    {
     "name": "stdin",
     "output_type": "stream",
     "text": [
      "Tebakan ke-2:  50\n"
     ]
    },
    {
     "name": "stdout",
     "output_type": "stream",
     "text": [
      "Angka yang ditebak terlalu kecil.\n"
     ]
    },
    {
     "name": "stdin",
     "output_type": "stream",
     "text": [
      "Tebakan ke-3:  70\n"
     ]
    },
    {
     "name": "stdout",
     "output_type": "stream",
     "text": [
      "Angka yang ditebak terlalu kecil.\n"
     ]
    },
    {
     "name": "stdin",
     "output_type": "stream",
     "text": [
      "Tebakan ke-4:  90\n"
     ]
    },
    {
     "name": "stdout",
     "output_type": "stream",
     "text": [
      "Angka yang ditebak terlalu kecil.\n"
     ]
    },
    {
     "name": "stdin",
     "output_type": "stream",
     "text": [
      "Tebakan ke-5:  99\n"
     ]
    },
    {
     "name": "stdout",
     "output_type": "stream",
     "text": [
      "Angka yang ditebak terlalu besar.\n",
      "Sayang sekali! Percobaan anda telah habis. Angka yang benar adalah 93.\n"
     ]
    }
   ],
   "source": [
    "# Soal 5\n",
    "\n",
    "import random\n",
    "\n",
    "def tebak_angka():\n",
    "    \n",
    "    angka_acak = random.randint(1, 100)\n",
    "    jumlah_percobaan = 5\n",
    "    \n",
    "    print(\"Selamat datang di permainan Tebak Angka!\")\n",
    "    print(\"Saya sudah memilih angka diantara 1 hingga 100.\")\n",
    "    print(f\"Anda memiliki {jumlah_percobaan} kali percobaan untuk menebak angka tersebut.\")\n",
    "\n",
    "    for percobaan in range(1, jumlah_percobaan + 1):\n",
    "        try:\n",
    "            tebakan = int(input(f\"Tebakan ke-{percobaan}: \"))\n",
    "            \n",
    "            if tebakan < 1 or tebakan > 100:\n",
    "                print(\"Tebakan harus diantara 1 hingga 100. Silakan coba lagi.\")\n",
    "                continue\n",
    "            \n",
    "            if tebakan < angka_acak:\n",
    "                print(\"Angka yang ditebak terlalu kecil.\")\n",
    "            elif tebakan > angka_acak:\n",
    "                print(\"Angka yang ditebak terlalu besar.\")\n",
    "            else:\n",
    "                print(f\"Selamat! Anda berhasil menebak angka {angka_acak} dalam {percobaan} percobaan.\")\n",
    "                break\n",
    "        except ValueError:\n",
    "            print(\"Input tidak valid. Diharapkan untuk memasukkan angka.\")\n",
    "\n",
    "    else:\n",
    "        print(f\"Sayang sekali! Percobaan anda telah habis. Angka yang benar adalah {angka_acak}.\")\n",
    "\n",
    "if __name__ == \"__main__\":\n",
    "    tebak_angka()\n"
   ]
  },
  {
   "cell_type": "code",
   "execution_count": 139,
   "id": "7f076d75-b8ea-4327-b41c-5fe9b5976247",
   "metadata": {},
   "outputs": [
    {
     "name": "stdout",
     "output_type": "stream",
     "text": [
      "Input: n = 4\n",
      "Output: 1, 1, 2, 6, 24\n"
     ]
    }
   ],
   "source": [
    "# Soal 6\n",
    "\n",
    "def faktorial(n):\n",
    "    if n == 0 or n == 1:\n",
    "        return 1\n",
    "    else:\n",
    "        return n * faktorial(n - 1)\n",
    "\n",
    "def urutan_faktorial(n):    \n",
    "    if n < 1:\n",
    "        return []\n",
    "    \n",
    "    return [faktorial(i) for i in range(n + 1)]  # Termasuk 0!\n",
    "\n",
    "if __name__ == \"__main__\":\n",
    "    n = 4\n",
    "    hasil = urutan_faktorial(n)\n",
    "    \n",
    "    print(\"Input: n =\", n)\n",
    "    print(\"Output:\", \", \".join(map(str, hasil)))\n"
   ]
  },
  {
   "cell_type": "code",
   "execution_count": 141,
   "id": "5303740a-8c45-4958-9599-0de984c7633e",
   "metadata": {},
   "outputs": [
    {
     "name": "stdin",
     "output_type": "stream",
     "text": [
      "Masukkan jumlah target koin:  50\n",
      "Masukkan koin yang tersedia (pisahkan menggunakan koma):  10, 25, 45\n"
     ]
    },
    {
     "name": "stdout",
     "output_type": "stream",
     "text": [
      "Kombinasi minimum koin yang diperlukan untuk mencapai 50 adalah: 2 koin.\n"
     ]
    }
   ],
   "source": [
    "# Soal 7\n",
    "\n",
    "def minimum_coin_change(target, coin):\n",
    "    dp = [float('inf')] * (target + 1)\n",
    "    dp[0] = 0  \n",
    "\n",
    "    for koin in coin:\n",
    "        for amount in range(koin, target + 1):\n",
    "            dp[amount] = min(dp[amount], dp[amount - koin] + 1)\n",
    "\n",
    "    if dp[target] == float('inf'):\n",
    "        return -1  \n",
    "\n",
    "    return dp[target]\n",
    "\n",
    "if __name__ == \"__main__\":    \n",
    "    target = int(input(\"Masukkan jumlah target koin: \"))\n",
    "    coin_input = input(\"Masukkan koin yang tersedia (pisahkan menggunakan koma): \")\n",
    "    coin = list(map(int, coin_input.split(',')))\n",
    "\n",
    "    result = minimum_coin_change(target, coin)\n",
    "\n",
    "    if result != -1:\n",
    "        print(f\"Kombinasi minimum koin yang diperlukan untuk mencapai {target} adalah: {result} koin.\")\n",
    "    else:\n",
    "        print(f\"Tidak ada kombinasi koin yang dapat mencapai {target}.\")\n"
   ]
  },
  {
   "cell_type": "code",
   "execution_count": 121,
   "id": "6e0d12fe-88dc-4c64-949f-e6f8f54cf073",
   "metadata": {},
   "outputs": [
    {
     "name": "stdin",
     "output_type": "stream",
     "text": [
      "Input:  Saya Suka IPSD\n"
     ]
    },
    {
     "name": "stdout",
     "output_type": "stream",
     "text": [
      "Output: ['ayaS', 'akuS', 'DSPI']\n"
     ]
    }
   ],
   "source": [
    "# Soal 8\n",
    "\n",
    "def reverse_words(input_string):\n",
    "    words = input_string.split()\n",
    "    reversed_words = [word[::-1] for word in words]\n",
    "    return reversed_words\n",
    "\n",
    "if __name__ == \"__main__\":\n",
    "    user_input = input(\"Input: \")\n",
    "    result = reverse_words(user_input)\n",
    "    \n",
    "    print(\"Output:\", result)\n"
   ]
  },
  {
   "cell_type": "code",
   "execution_count": 115,
   "id": "a14448f1-8b87-4a91-92df-901f18c610a9",
   "metadata": {},
   "outputs": [
    {
     "name": "stdout",
     "output_type": "stream",
     "text": [
      "\n",
      "Input untuk buku ke-1:\n"
     ]
    },
    {
     "name": "stdin",
     "output_type": "stream",
     "text": [
      "Masukkan judul buku:  The Story We Can\n",
      "Masukkan penulis buku:  Rizal Wahyu Pratama\n",
      "Masukkan tahun terbit buku:  2020\n"
     ]
    },
    {
     "name": "stdout",
     "output_type": "stream",
     "text": [
      "\n",
      "Informasi Buku:\n",
      "Judul: The Story We Can\n",
      "Penulis: Rizal Wahyu Pratama\n",
      "Tahun Terbit: 2020\n",
      "Usia Buku: 4 tahun\n",
      "\n"
     ]
    }
   ],
   "source": [
    "# Soal 9\n",
    "\n",
    "class Buku:\n",
    "    def __init__(self, judul, penulis, tahun_terbit):\n",
    "        self.judul = judul\n",
    "        self.penulis = penulis\n",
    "        self.tahun_terbit = tahun_terbit\n",
    "\n",
    "    def tampilkan_informasi(self):\n",
    "        print(f\"Judul: {self.judul}\")\n",
    "        print(f\"Penulis: {self.penulis}\")\n",
    "        print(f\"Tahun Terbit: {self.tahun_terbit}\")\n",
    "\n",
    "    def usia_buku(self, tahun_sekarang):\n",
    "        return tahun_sekarang - self.tahun_terbit\n",
    "\n",
    "def input_buku():\n",
    "    judul = input(\"Masukkan judul buku: \")\n",
    "    penulis = input(\"Masukkan penulis buku: \")\n",
    "    tahun_terbit = int(input(\"Masukkan tahun terbit buku: \"))\n",
    "    return Buku(judul, penulis, tahun_terbit)\n",
    "\n",
    "list_buku = []\n",
    "for i in range(1):\n",
    "    print(f\"\\nInput untuk buku ke-{i + 1}:\")\n",
    "    buku = input_buku()\n",
    "    list_buku.append(buku)\n",
    "\n",
    "tahun_sekarang = 2024\n",
    "\n",
    "print(\"\\nInformasi Buku:\")\n",
    "for buku in list_buku:\n",
    "    buku.tampilkan_informasi()\n",
    "    usia = buku.usia_buku(tahun_sekarang)\n",
    "    print(f\"Usia Buku: {usia} tahun\\n\")\n"
   ]
  },
  {
   "cell_type": "code",
   "execution_count": 127,
   "id": "e41b4010-cf13-4aa0-914c-d71978092b42",
   "metadata": {},
   "outputs": [
    {
     "name": "stdin",
     "output_type": "stream",
     "text": [
      "Masukkan daftar angka genap (pisahkan menggunakan spasi):  2 4 6 8 10 12 14\n",
      "Masukkan angka yang ingin dicari:  10\n"
     ]
    },
    {
     "name": "stdout",
     "output_type": "stream",
     "text": [
      "Nilai 10 berada di indeks 4.\n"
     ]
    }
   ],
   "source": [
    "# Soal 10\n",
    "\n",
    "def binary_search(arr, target):\n",
    "    left, right = 0, len(arr) - 1\n",
    "    \n",
    "    while left <= right:\n",
    "        mid = (left + right) // 2\n",
    "        \n",
    "        if arr[mid] == target:\n",
    "            return mid \n",
    "        elif arr[mid] < target:\n",
    "            left = mid + 1\n",
    "        else:\n",
    "            right = mid - 1\n",
    "            \n",
    "    return -1  \n",
    "\n",
    "def main():\n",
    "    input_numbers = input(\"Masukkan daftar angka genap (pisahkan menggunakan spasi): \")\n",
    "    even_numbers = list(map(int, input_numbers.split()))\n",
    "    \n",
    "    if not all(num % 2 == 0 for num in even_numbers):\n",
    "        print(\"Semua angka yang dimasukkan harus genap.\")\n",
    "        return\n",
    "    \n",
    "    target = int(input(\"Masukkan angka yang ingin dicari: \"))\n",
    "    \n",
    "    if target % 2 != 0:\n",
    "        print(\"Nilai tidak dapat ditemukan karena merupakan angka ganjil.\")\n",
    "    else:\n",
    "        index = binary_search(even_numbers, target)\n",
    "        if index != -1:\n",
    "            print(f\"Nilai {target} berada di indeks {index}.\")\n",
    "        else:\n",
    "            print(f\"Nilai {target} tidak berada dalam daftar.\")\n",
    "\n",
    "if __name__ == \"__main__\":\n",
    "    main()\n"
   ]
  }
 ],
 "metadata": {
  "kernelspec": {
   "display_name": "Python 3 (ipykernel)",
   "language": "python",
   "name": "python3"
  },
  "language_info": {
   "codemirror_mode": {
    "name": "ipython",
    "version": 3
   },
   "file_extension": ".py",
   "mimetype": "text/x-python",
   "name": "python",
   "nbconvert_exporter": "python",
   "pygments_lexer": "ipython3",
   "version": "3.12.4"
  }
 },
 "nbformat": 4,
 "nbformat_minor": 5
}
